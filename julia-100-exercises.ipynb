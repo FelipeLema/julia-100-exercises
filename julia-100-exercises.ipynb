{
 "metadata": {
  "language": "Julia",
  "name": "",
  "signature": "sha256:9b32b47b2b8353a3c919d1a61cc58ef2dea034cf3b786da23b6b0bc02a7b6f73"
 },
 "nbformat": 3,
 "nbformat_minor": 0,
 "worksheets": [
  {
   "cells": [
    {
     "cell_type": "code",
     "collapsed": false,
     "input": [
      "# 2. Print the julia version\n",
      "VERSION"
     ],
     "language": "python",
     "metadata": {},
     "outputs": [
      {
       "metadata": {},
       "output_type": "pyout",
       "prompt_number": 1,
       "text": [
        "v\"0.3.0-prerelease+3551\""
       ]
      }
     ],
     "prompt_number": 1
    },
    {
     "cell_type": "code",
     "collapsed": false,
     "input": [
      "# 3. Create a null vector of size 10\n",
      "Z = zeros(10)"
     ],
     "language": "python",
     "metadata": {},
     "outputs": [
      {
       "metadata": {},
       "output_type": "pyout",
       "prompt_number": 2,
       "text": [
        "10-element Array{Float64,1}:\n",
        " 0.0\n",
        " 0.0\n",
        " 0.0\n",
        " 0.0\n",
        " 0.0\n",
        " 0.0\n",
        " 0.0\n",
        " 0.0\n",
        " 0.0\n",
        " 0.0"
       ]
      }
     ],
     "prompt_number": 2
    },
    {
     "cell_type": "code",
     "collapsed": false,
     "input": [
      "# 4. Create a null vector of size 10 but the fifth value which is 1\n",
      "Z = zeros(10)\n",
      "Z[5] = 1\n",
      "Z"
     ],
     "language": "python",
     "metadata": {},
     "outputs": [
      {
       "metadata": {},
       "output_type": "pyout",
       "prompt_number": 3,
       "text": [
        "10-element Array{Float64,1}:\n",
        " 0.0\n",
        " 0.0\n",
        " 0.0\n",
        " 0.0\n",
        " 1.0\n",
        " 0.0\n",
        " 0.0\n",
        " 0.0\n",
        " 0.0\n",
        " 0.0"
       ]
      }
     ],
     "prompt_number": 3
    },
    {
     "cell_type": "code",
     "collapsed": false,
     "input": [
      "# 5. Create a vector with values ranging from 10 to 99\n",
      "Z = [10:99]"
     ],
     "language": "python",
     "metadata": {},
     "outputs": [
      {
       "metadata": {},
       "output_type": "pyout",
       "prompt_number": 4,
       "text": [
        "90-element Array{Int64,1}:\n",
        " 10\n",
        " 11\n",
        " 12\n",
        " 13\n",
        " 14\n",
        " 15\n",
        " 16\n",
        " 17\n",
        " 18\n",
        " 19\n",
        " 20\n",
        " 21\n",
        " 22\n",
        "  \u22ee\n",
        " 88\n",
        " 89\n",
        " 90\n",
        " 91\n",
        " 92\n",
        " 93\n",
        " 94\n",
        " 95\n",
        " 96\n",
        " 97\n",
        " 98\n",
        " 99"
       ]
      }
     ],
     "prompt_number": 4
    },
    {
     "cell_type": "code",
     "collapsed": false,
     "input": [
      "# 6. Create a 3x3 matrix with values ranging from 0 to 8\n",
      "Z = reshape(0:8, 3, 3)"
     ],
     "language": "python",
     "metadata": {},
     "outputs": [
      {
       "metadata": {},
       "output_type": "pyout",
       "prompt_number": 5,
       "text": [
        "3x3 Array{Int64,2}:\n",
        " 0  3  6\n",
        " 1  4  7\n",
        " 2  5  8"
       ]
      }
     ],
     "prompt_number": 5
    },
    {
     "cell_type": "code",
     "collapsed": false,
     "input": [
      "# 7. Find indices of non-zero elements from [1,2,0,0,4,0]\n",
      "nz = find([1,2,0,0,4,0])"
     ],
     "language": "python",
     "metadata": {},
     "outputs": [
      {
       "metadata": {},
       "output_type": "pyout",
       "prompt_number": 6,
       "text": [
        "3-element Array{Int64,1}:\n",
        " 1\n",
        " 2\n",
        " 5"
       ]
      }
     ],
     "prompt_number": 6
    },
    {
     "cell_type": "code",
     "collapsed": false,
     "input": [
      "# 8. Create a 3x3 identity matrix\n",
      "Z = eye(3)"
     ],
     "language": "python",
     "metadata": {},
     "outputs": [
      {
       "metadata": {},
       "output_type": "pyout",
       "prompt_number": 7,
       "text": [
        "3x3 Array{Float64,2}:\n",
        " 1.0  0.0  0.0\n",
        " 0.0  1.0  0.0\n",
        " 0.0  0.0  1.0"
       ]
      }
     ],
     "prompt_number": 7
    },
    {
     "cell_type": "code",
     "collapsed": false,
     "input": [
      "# 9. Create a 5x5 matrix with values 1,2,3,4 just below the diagonal\n",
      "Z = diagm(1:4, -1)"
     ],
     "language": "python",
     "metadata": {},
     "outputs": [
      {
       "metadata": {},
       "output_type": "pyout",
       "prompt_number": 8,
       "text": [
        "5x5 Array{Int64,2}:\n",
        " 0  0  0  0  0\n",
        " 1  0  0  0  0\n",
        " 0  2  0  0  0\n",
        " 0  0  3  0  0\n",
        " 0  0  0  4  0"
       ]
      }
     ],
     "prompt_number": 8
    },
    {
     "cell_type": "code",
     "collapsed": false,
     "input": [
      "# 10. Create a 10x10x10 array with random values\n",
      "rand(10, 10, 10)"
     ],
     "language": "python",
     "metadata": {},
     "outputs": [
      {
       "metadata": {},
       "output_type": "pyout",
       "prompt_number": 9,
       "text": [
        "10x10x10 Array{Float64,3}:\n",
        "[:, :, 1] =\n",
        " 0.034145   0.268242   0.0485979  0.428922   \u2026  0.9489    0.209755  0.236397\n",
        " 0.439383   0.295676   0.928123   0.761957      0.155299  0.558208  0.554612\n",
        " 0.963822   0.458294   0.0156232  0.132763      0.141463  0.305217  0.905598\n",
        " 0.194614   0.840437   0.723009   0.0720331     0.296162  0.674731  0.128885\n",
        " 0.796483   0.0555671  0.224526   0.772425      0.885811  0.73739   0.627562\n",
        " 0.565266   0.869882   0.475995   0.881945   \u2026  0.326811  0.230056  0.573527\n",
        " 0.645976   0.538391   0.803945   0.933038      0.502581  0.611852  0.663518\n",
        " 0.329185   0.722613   0.485278   0.771448      0.353414  0.730991  0.827954\n",
        " 0.0611924  0.871009   0.0167618  0.301932      0.167224  0.792975  0.193945\n",
        " 0.900595   0.294612   0.205382   0.755564      0.347528  0.129072  0.497474\n",
        "\n",
        "[:, :, 2] =\n",
        " 0.884786  0.0985866   0.326788  0.433292   \u2026  0.16982   0.799283  0.311971 \n",
        " 0.452874  0.00591103  0.317981  0.0395462     0.352284  0.709883  0.0240011\n",
        " 0.814415  0.33766     0.613675  0.69121       0.247666  0.931178  0.403187 \n",
        " 0.771217  0.212893    0.456438  0.0394425     0.829252  0.635215  0.531953 \n",
        " 0.704984  0.359541    0.316773  0.765606      0.635769  0.265924  0.865717 \n",
        " 0.32984   0.775517    0.310455  0.0876505  \u2026  0.274149  0.548294  0.251255 \n",
        " 0.551095  0.345436    0.262337  0.926771      0.411857  0.900337  0.353354 \n",
        " 0.158     0.524824    0.45249   0.125128      0.311442  0.852494  0.571654 \n",
        " 0.370989  0.0811673   0.14505   0.129946      0.566914  0.932565  0.468018 \n",
        " 0.103617  0.517381    0.825162  0.956037      0.599073  0.914455  0.298137 \n",
        "\n",
        "[:, :, 3] =\n",
        " 0.390011   0.886147   0.98678    0.144505  \u2026  0.604102   0.465648  0.904571 \n",
        " 0.424521   0.532695   0.0878879  0.609043     0.163985   0.912237  0.310421 \n",
        " 0.878342   0.202086   0.605134   0.829019     0.970571   0.565991  0.779465 \n",
        " 0.0203392  0.0901589  0.412942   0.200343     0.221781   0.801443  0.0820567\n",
        " 0.560221   0.0352367  0.8528     0.390492     0.0675798  0.31858   0.344751 \n",
        " 0.499125   0.851688   0.959343   0.657008  \u2026  0.985808   0.538818  0.771099 \n",
        " 0.556494   0.858263   0.377265   0.609041     0.859643   0.382099  0.187092 \n",
        " 0.508082   0.261576   0.0620517  0.962645     0.471442   0.129446  0.994819 \n",
        " 0.390535   0.954745   0.570423   0.145537     0.0663626  0.419917  0.275806 \n",
        " 0.193708   0.733444   0.686008   0.818776     0.299394   0.478417  0.585173 \n",
        "\n",
        "[:, :, 4] =\n",
        " 0.928093   0.343058  0.55753    0.353767   \u2026  0.37289   0.218515   0.40865 \n",
        " 0.534927   0.210586  0.666102   0.732009      0.393563  0.197541   0.704566\n",
        " 0.279425   0.159967  0.0511315  0.0306406     0.441216  0.343087   0.500217\n",
        " 0.229436   0.475143  0.649776   0.0983745     0.358638  0.260097   0.414696\n",
        " 0.204207   0.514305  0.260261   0.687469      0.168774  0.27027    0.24405 \n",
        " 0.1869     0.884277  0.915425   0.939586   \u2026  0.196253  0.0491185  0.193557\n",
        " 0.337678   0.966932  0.315507   0.679663      0.197145  0.379301   0.712806\n",
        " 0.190022   0.937208  0.900181   0.868256      0.595555  0.0724524  0.679648\n",
        " 0.858221   0.966329  0.793551   0.388507      0.622155  0.410261   0.327281\n",
        " 0.0378539  0.692104  0.467911   0.967737      0.55027   0.68885    0.902098\n",
        "\n",
        "[:, :, 5] =\n",
        " 0.399038  0.781171   0.183592  0.374869  \u2026  0.286633  0.107854   0.736814\n",
        " 0.317394  0.250658   0.883334  0.246932     0.604081  0.314408   0.271505\n",
        " 0.997287  0.146806   0.189746  0.800166     0.528698  0.35251    0.956602\n",
        " 0.530164  0.911151   0.988349  0.244716     0.659561  0.566004   0.52667 \n",
        " 0.160226  0.524147   0.400841  0.72733      0.534946  0.0208349  0.805252\n",
        " 0.949886  0.232722   0.965865  0.967489  \u2026  0.245304  0.570305   0.44537 \n",
        " 0.915924  0.609431   0.970984  0.29739      0.808149  0.911439   0.420371\n",
        " 0.257258  0.0521483  0.941942  0.637436     0.688579  0.604132   0.462413\n",
        " 0.720784  0.718388   0.832275  0.175151     0.567584  0.018766   0.743218\n",
        " 0.200636  0.173299   0.888989  0.141237     0.291423  0.739655   0.524194\n",
        "\n",
        "[:, :, 6] =\n",
        " 0.501919  0.72435    0.800288   \u2026  0.831466    0.901526  0.379357 \n",
        " 0.798594  0.817162   0.0409666     0.779602    0.642182  0.560448 \n",
        " 0.905131  0.846299   0.517466      0.490872    0.806418  0.749209 \n",
        " 0.645684  0.156044   0.440172      0.00677125  0.593017  0.815594 \n",
        " 0.640404  0.499376   0.116359      0.990232    0.689397  0.57358  \n",
        " 0.772028  0.363991   0.439983   \u2026  0.935436    0.312385  0.939404 \n",
        " 0.741571  0.0257984  0.131277      0.895183    0.064042  0.881047 \n",
        " 0.92751   0.710666   0.238267      0.179196    0.492887  0.833819 \n",
        " 0.245981  0.0447601  0.754204      0.27354     0.774878  0.182406 \n",
        " 0.367077  0.621255   0.511235      0.1589      0.944863  0.0194853\n",
        "\n",
        "[:, :, 7] =\n",
        " 0.680284   0.487659  0.0704851  \u2026  0.751159    0.593319   0.469149 \n",
        " 0.815485   0.166791  0.692469      0.996393    0.972705   0.208494 \n",
        " 0.699674   0.211202  0.533111      0.548486    0.850375   0.0939132\n",
        " 0.0040795  0.111549  0.883459      0.621037    0.188048   0.675082 \n",
        " 0.289331   0.908521  0.899746      0.00985736  0.107463   0.284444 \n",
        " 0.799696   0.159727  0.674699   \u2026  0.64419     0.0726585  0.539336 \n",
        " 0.97392    0.327537  0.225511      0.029702    0.796847   0.81257  \n",
        " 0.781341   0.618356  0.918014      0.0532646   0.469186   0.793817 \n",
        " 0.546852   0.805814  0.845807      0.968119    0.982309   0.382251 \n",
        " 0.258214   0.32128   0.888833      0.293044    0.694651   0.186753 \n",
        "\n",
        "[:, :, 8] =\n",
        " 0.779698   0.449607   0.591337   0.212191   \u2026  0.175319  0.456717  0.604342\n",
        " 0.158257   0.61933    0.682459   0.147046      0.350706  0.75107   0.390588\n",
        " 0.768704   0.445911   0.0645907  0.0410669     0.365928  0.195845  0.144063\n",
        " 0.4507     0.0146182  0.630368   0.413673      0.950018  0.178838  0.440315\n",
        " 0.232092   0.762349   0.633409   0.766799      0.223348  0.57972   0.355047\n",
        " 0.899731   0.123223   0.0233395  0.700013   \u2026  0.870325  0.538524  0.907163\n",
        " 0.171955   0.637283   0.975694   0.97264       0.623255  0.533782  0.954107\n",
        " 0.0684775  0.413828   0.20519    0.0246252     0.314265  0.178614  0.975778\n",
        " 0.959745   0.986685   0.930843   0.387466      0.417065  0.172529  0.718679\n",
        " 0.181373   0.477147   0.027109   0.423954      0.213619  0.730533  0.554403\n",
        "\n",
        "[:, :, 9] =\n",
        " 0.290584   0.796236  0.090066    \u2026  0.562555   0.958446   0.33674  \n",
        " 0.671762   0.77226   0.245002       0.275539   0.0858862  0.75147  \n",
        " 0.133682   0.590788  0.864956       0.100781   0.54866    0.0116925\n",
        " 0.21612    0.803897  0.00955294     0.0697072  0.250237   0.526473 \n",
        " 0.651057   0.534239  0.519258       0.46742    0.901506   0.789488 \n",
        " 0.483203   0.297691  0.524035    \u2026  0.765781   0.543464   0.42325  \n",
        " 0.103226   0.27069   0.0300985      0.373818   0.816091   0.912547 \n",
        " 0.0459239  0.671603  0.590287       0.0202953  0.795407   0.646679 \n",
        " 0.515843   0.957996  0.107116       0.707088   0.115203   0.219364 \n",
        " 0.601414   0.960832  0.394113       0.778681   0.218405   0.461096 \n",
        "\n",
        "[:, :, 10] =\n",
        " 0.179119   0.356411  0.906506   0.181724  \u2026  0.650182  0.346252  0.138954\n",
        " 0.0187743  0.875502  0.147144   0.602999     0.902347  0.857405  0.485414\n",
        " 0.908869   0.729705  0.323819   0.767027     0.209536  0.61286   0.391205\n",
        " 0.931588   0.841655  0.0200573  0.932292     0.708783  0.594136  0.538228\n",
        " 0.0322439  0.362298  0.930165   0.926655     0.528762  0.210186  0.935443\n",
        " 0.0688265  0.44927   0.268731   0.170498  \u2026  0.159967  0.108864  0.421382\n",
        " 0.305703   0.962371  0.908059   0.282802     0.43182   0.22834   0.200304\n",
        " 0.187214   0.49969   0.0425585  0.786083     0.993808  0.396576  0.245434\n",
        " 0.327367   0.28039   0.88306    0.941516     0.784903  0.953407  0.276916\n",
        " 0.91688    0.368325  0.137372   0.27959      0.133132  0.40048   0.480083"
       ]
      }
     ],
     "prompt_number": 9
    },
    {
     "cell_type": "code",
     "collapsed": false,
     "input": [
      "# Novice\n",
      "# 1. Create a 8x8 matrix and fill it with a checkerboard pattern\n",
      "Z = zeros(Int64,8,8)\n",
      "Z[1:2:end, 2:2:end] = 1\n",
      "Z[2:2:end, 1:2:end] = 1\n",
      "Z\n",
      "\n",
      "# Another solution\n",
      "# Author: harven\n",
      "[(i+j)%2 for i=1:8, j=1:8]"
     ],
     "language": "python",
     "metadata": {},
     "outputs": [
      {
       "metadata": {},
       "output_type": "pyout",
       "prompt_number": 10,
       "text": [
        "8x8 Array{Int64,2}:\n",
        " 0  1  0  1  0  1  0  1\n",
        " 1  0  1  0  1  0  1  0\n",
        " 0  1  0  1  0  1  0  1\n",
        " 1  0  1  0  1  0  1  0\n",
        " 0  1  0  1  0  1  0  1\n",
        " 1  0  1  0  1  0  1  0\n",
        " 0  1  0  1  0  1  0  1\n",
        " 1  0  1  0  1  0  1  0"
       ]
      }
     ],
     "prompt_number": 10
    },
    {
     "cell_type": "code",
     "collapsed": false,
     "input": [
      "# 2. Create a 10x10 array with random values and find the minimum and maximum values\n",
      "Z = rand(10, 10)\n",
      "Zmin, Zmax = minimum(Z), maximum(Z)\n",
      "# It also write as following. thanks [hc_e](http://qiita.com/chezou/items/d7ca4e95d25835a5cd01#comment-1c20073a44695c08f523)\n",
      "Zmin, Zmax = extrema(Z)"
     ],
     "language": "python",
     "metadata": {},
     "outputs": [
      {
       "metadata": {},
       "output_type": "pyout",
       "prompt_number": 11,
       "text": [
        "(0.025630471865903948,0.9925755584884142)"
       ]
      }
     ],
     "prompt_number": 11
    },
    {
     "cell_type": "code",
     "collapsed": false,
     "input": [
      "# 3. Create a checkerboard 8x8 matrix using the tile function\n",
      "# numpy's tile equal to repmat\n",
      "Z = repmat([0 1;1 0],4,4)"
     ],
     "language": "python",
     "metadata": {},
     "outputs": [
      {
       "metadata": {},
       "output_type": "pyout",
       "prompt_number": 12,
       "text": [
        "8x8 Array{Int64,2}:\n",
        " 0  1  0  1  0  1  0  1\n",
        " 1  0  1  0  1  0  1  0\n",
        " 0  1  0  1  0  1  0  1\n",
        " 1  0  1  0  1  0  1  0\n",
        " 0  1  0  1  0  1  0  1\n",
        " 1  0  1  0  1  0  1  0\n",
        " 0  1  0  1  0  1  0  1\n",
        " 1  0  1  0  1  0  1  0"
       ]
      }
     ],
     "prompt_number": 12
    },
    {
     "cell_type": "code",
     "collapsed": false,
     "input": [
      "# 4. Normalize a 5x5 random matrix (between 0 and 1)\n",
      "Z = rand(5, 5)\n",
      "Zmin, Zmax = minimum(Z), maximum(Z)\n",
      "Z = (Z .- Zmin)./(Zmax - Zmin)"
     ],
     "language": "python",
     "metadata": {},
     "outputs": [
      {
       "metadata": {},
       "output_type": "pyout",
       "prompt_number": 13,
       "text": [
        "5x5 Array{Float64,2}:\n",
        " 0.421863  0.289767  0.624485  0.599836   0.356206\n",
        " 0.572424  0.891466  0.386598  0.226227   0.563493\n",
        " 0.53426   0.229678  0.252777  0.0        0.772212\n",
        " 1.0       0.12508   0.72669   0.0301815  0.977496\n",
        " 0.798293  0.487652  0.757445  0.0185411  0.484472"
       ]
      }
     ],
     "prompt_number": 13
    },
    {
     "cell_type": "code",
     "collapsed": false,
     "input": [
      "# 5. Multiply a 5x3 matrix by a 3x2 matrix (real matrix product)\n",
      "Z = ones(5,3) * ones(3,2)"
     ],
     "language": "python",
     "metadata": {},
     "outputs": [
      {
       "metadata": {},
       "output_type": "pyout",
       "prompt_number": 14,
       "text": [
        "5x2 Array{Float64,2}:\n",
        " 3.0  3.0\n",
        " 3.0  3.0\n",
        " 3.0  3.0\n",
        " 3.0  3.0\n",
        " 3.0  3.0"
       ]
      }
     ],
     "prompt_number": 14
    },
    {
     "cell_type": "code",
     "collapsed": false,
     "input": [
      "# 6. Create a 10x10 matrix with row values ranging from 0 to 9\n",
      "(zeros(Int64,10,10) .+ [0:9])'\n",
      "\n",
      "# Alternate solution\n",
      "# Author: Leah Hanson\n",
      "[y for x in 1:10, y in 0:9]"
     ],
     "language": "python",
     "metadata": {},
     "outputs": [
      {
       "metadata": {},
       "output_type": "pyout",
       "prompt_number": 15,
       "text": [
        "10x10 Array{Int64,2}:\n",
        " 0  1  2  3  4  5  6  7  8  9\n",
        " 0  1  2  3  4  5  6  7  8  9\n",
        " 0  1  2  3  4  5  6  7  8  9\n",
        " 0  1  2  3  4  5  6  7  8  9\n",
        " 0  1  2  3  4  5  6  7  8  9\n",
        " 0  1  2  3  4  5  6  7  8  9\n",
        " 0  1  2  3  4  5  6  7  8  9\n",
        " 0  1  2  3  4  5  6  7  8  9\n",
        " 0  1  2  3  4  5  6  7  8  9\n",
        " 0  1  2  3  4  5  6  7  8  9"
       ]
      }
     ],
     "prompt_number": 15
    },
    {
     "cell_type": "code",
     "collapsed": false,
     "input": [
      "# 7. Create a vector of size 1000 with values ranging from 0 to 1, both excluded\n",
      "linspace(0,1, 1002)[2:end - 1]"
     ],
     "language": "python",
     "metadata": {},
     "outputs": [
      {
       "metadata": {},
       "output_type": "pyout",
       "prompt_number": 16,
       "text": [
        "1000-element Array{Float64,1}:\n",
        " 0.000999001\n",
        " 0.001998   \n",
        " 0.002997   \n",
        " 0.003996   \n",
        " 0.004995   \n",
        " 0.00599401 \n",
        " 0.00699301 \n",
        " 0.00799201 \n",
        " 0.00899101 \n",
        " 0.00999001 \n",
        " 0.010989   \n",
        " 0.011988   \n",
        " 0.012987   \n",
        " \u22ee          \n",
        " 0.988012   \n",
        " 0.989011   \n",
        " 0.99001    \n",
        " 0.991009   \n",
        " 0.992008   \n",
        " 0.993007   \n",
        " 0.994006   \n",
        " 0.995005   \n",
        " 0.996004   \n",
        " 0.997003   \n",
        " 0.998002   \n",
        " 0.999001   "
       ]
      }
     ],
     "prompt_number": 16
    },
    {
     "cell_type": "code",
     "collapsed": false,
     "input": [
      "# 8. Create a random vector of size 100 and sort it\n",
      "Z = rand(100)\n",
      "sort(Z) # returns a sorted copy of Z; leaves Z unchanged\n",
      "\n",
      "# Alternate solution\n",
      "# Author: Leah Hanson\n",
      "Z = rand(100)\n",
      "sort!(Z) # sorts Z in-place; returns Z"
     ],
     "language": "python",
     "metadata": {},
     "outputs": [
      {
       "metadata": {},
       "output_type": "pyout",
       "prompt_number": 17,
       "text": [
        "100-element Array{Float64,1}:\n",
        " 0.00786449\n",
        " 0.0139142 \n",
        " 0.0214577 \n",
        " 0.0375952 \n",
        " 0.0380379 \n",
        " 0.0468105 \n",
        " 0.0554149 \n",
        " 0.0594401 \n",
        " 0.0637788 \n",
        " 0.0875325 \n",
        " 0.0935258 \n",
        " 0.0988737 \n",
        " 0.135646  \n",
        " \u22ee         \n",
        " 0.880447  \n",
        " 0.881043  \n",
        " 0.881942  \n",
        " 0.913576  \n",
        " 0.916169  \n",
        " 0.920761  \n",
        " 0.933387  \n",
        " 0.933603  \n",
        " 0.940579  \n",
        " 0.962548  \n",
        " 0.980245  \n",
        " 0.995444  "
       ]
      }
     ],
     "prompt_number": 17
    },
    {
     "cell_type": "code",
     "collapsed": false,
     "input": [
      "# 9. Consider two random matrices A anb B, check if they are equal.\n",
      "A = rand(0:2, 2,2)\n",
      "B = rand(0:2, 2,2)\n",
      "A == B"
     ],
     "language": "python",
     "metadata": {},
     "outputs": [
      {
       "metadata": {},
       "output_type": "pyout",
       "prompt_number": 18,
       "text": [
        "false"
       ]
      }
     ],
     "prompt_number": 18
    },
    {
     "cell_type": "code",
     "collapsed": false,
     "input": [
      "# 10. Create a random vector of size 1000 and find the mean value\n",
      "Z = rand(1000)\n",
      "m = mean(Z)"
     ],
     "language": "python",
     "metadata": {},
     "outputs": [
      {
       "metadata": {},
       "output_type": "pyout",
       "prompt_number": 19,
       "text": [
        "0.5065816697128719"
       ]
      }
     ],
     "prompt_number": 19
    },
    {
     "cell_type": "code",
     "collapsed": false,
     "input": [
      "# Apprentice\n",
      "# 1. Make an array immutable (read-only)\n",
      "# nothing"
     ],
     "language": "python",
     "metadata": {},
     "outputs": [],
     "prompt_number": 20
    },
    {
     "cell_type": "code",
     "collapsed": false,
     "input": [
      "# 2. Consider a random 100x2 matrix representing cartesian coordinates, convert them to polar coordinates\n",
      "Z = rand(100,2)\n",
      "X, Y = Z[:,1], Z[:,2]\n",
      "R = sqrt(X'*X + Y'*Y)\n",
      "T = atan2(Y,X)"
     ],
     "language": "python",
     "metadata": {},
     "outputs": [
      {
       "metadata": {},
       "output_type": "pyout",
       "prompt_number": 21,
       "text": [
        "100-element Array{Float64,1}:\n",
        " 1.36354  \n",
        " 0.128228 \n",
        " 0.0345358\n",
        " 0.67214  \n",
        " 1.34177  \n",
        " 0.0654553\n",
        " 1.2066   \n",
        " 0.350699 \n",
        " 0.640256 \n",
        " 0.965161 \n",
        " 1.20682  \n",
        " 1.04628  \n",
        " 0.619944 \n",
        " \u22ee        \n",
        " 0.0556825\n",
        " 0.0976725\n",
        " 0.203145 \n",
        " 1.4963   \n",
        " 1.21839  \n",
        " 0.582149 \n",
        " 0.483059 \n",
        " 0.713733 \n",
        " 0.576916 \n",
        " 0.442175 \n",
        " 0.53404  \n",
        " 1.55871  "
       ]
      }
     ],
     "prompt_number": 21
    },
    {
     "cell_type": "code",
     "collapsed": false,
     "input": [
      "# 3. Create random vector of size 100 and replace the maximum value by 0\n",
      "Z = rand(100)\n",
      "Z[indmax(Z)] = 0"
     ],
     "language": "python",
     "metadata": {},
     "outputs": [
      {
       "metadata": {},
       "output_type": "pyout",
       "prompt_number": 22,
       "text": [
        "0"
       ]
      }
     ],
     "prompt_number": 22
    },
    {
     "cell_type": "code",
     "collapsed": false,
     "input": [
      "# 4. Create a structured array with x and y coordinates covering the [0,1]x[0,1] area.\n",
      "# There is not exist `meshgrid` officially\n",
      "# see also. https://github.com/JuliaLang/julia/issues/4093\n",
      "# assume using https://github.com/JuliaLang/julia/blob/master/examples/ndgrid.jl\n",
      "include(\"/Applications/Julia-0.3.0-prerelease-547facf2c1.app/Contents/Resources/julia/share/julia/examples/ndgrid.jl\")\n",
      "X = linspace(0,1,10)\n",
      "Zx, Zy = meshgrid(X, X)\n",
      "\n",
      "# Another solution\n",
      "# Author: Alireza Nejati\n",
      "[(x,y) for x in linspace(0,1,10), y in linspace(0,1,10)]"
     ],
     "language": "python",
     "metadata": {},
     "outputs": [
      {
       "metadata": {},
       "output_type": "pyout",
       "prompt_number": 23,
       "text": [
        "10x10 Array{(Float64,Float64),2}:\n",
        " (0.0,0.0)                 \u2026  (0.0,1.0)               \n",
        " (0.1111111111111111,0.0)     (0.1111111111111111,1.0)\n",
        " (0.2222222222222222,0.0)     (0.2222222222222222,1.0)\n",
        " (0.3333333333333333,0.0)     (0.3333333333333333,1.0)\n",
        " (0.4444444444444444,0.0)     (0.4444444444444444,1.0)\n",
        " (0.5555555555555556,0.0)  \u2026  (0.5555555555555556,1.0)\n",
        " (0.6666666666666666,0.0)     (0.6666666666666666,1.0)\n",
        " (0.7777777777777778,0.0)     (0.7777777777777778,1.0)\n",
        " (0.8888888888888888,0.0)     (0.8888888888888888,1.0)\n",
        " (1.0,0.0)                    (1.0,1.0)               "
       ]
      }
     ],
     "prompt_number": 23
    },
    {
     "cell_type": "code",
     "collapsed": false,
     "input": [
      "# 5. Print the minimum and maximum representable value for each Julia scalar type\n",
      "for dtype in (Int8, Int16, Int32, Int64)\n",
      "    println(typemin(dtype))\n",
      "    println(typemax(dtype))\n",
      "end\n",
      "\n",
      "# Another solution\n",
      "# Author: harven\n",
      "print(map!(t -> (typemin(t),typemax(t)), subtypes(Signed)))\n",
      "\n",
      "# typemin, typemax returns -Inf, Inf\n",
      "for dtype in (Float32, Float64)\n",
      "    println(typemin(dtype))\n",
      "    println(typemax(dtype))\n",
      "    println(eps(dtype))\n",
      "end"
     ],
     "language": "python",
     "metadata": {},
     "outputs": [
      {
       "output_type": "stream",
       "stream": "stdout",
       "text": [
        "-128\n"
       ]
      },
      {
       "output_type": "stream",
       "stream": "stdout",
       "text": [
        "127\n",
        "-32768\n",
        "32767\n",
        "-2147483648\n",
        "2147483647\n",
        "-9223372036854775808\n",
        "9223372036854775807\n",
        "{"
       ]
      },
      {
       "output_type": "stream",
       "stream": "stdout",
       "text": [
        "(-170141183460469231731687303715884105728,170141183460469231731687303715884105727),(-32768,32767),(-2147483648,2147483647),(-9223372036854775808,9223372036854775807),(-128,127)}-"
       ]
      },
      {
       "output_type": "stream",
       "stream": "stdout",
       "text": [
        "Inf\n",
        "Inf\n",
        "1.1920929e-7\n",
        "-Inf\n",
        "Inf\n",
        "2.220446049250313e-16\n"
       ]
      }
     ],
     "prompt_number": 24
    },
    {
     "cell_type": "code",
     "collapsed": false,
     "input": [
      "# 6. Create a structured array representing a position (x,y) and a color (r,g,b)\n",
      "# Julia doesn't have StructArray\n",
      "# see also: https://github.com/JuliaLang/julia/issues/1263\n",
      "# use DataFrames"
     ],
     "language": "python",
     "metadata": {},
     "outputs": [],
     "prompt_number": 25
    },
    {
     "cell_type": "code",
     "collapsed": false,
     "input": [
      "# 7. Consider a random vector with shape (100,2) representing coordinates, find point by point distances\n",
      "Z = rand(10,2)\n",
      "X,Y = Z[:,1], Z[:,2]\n",
      "D = sqrtm((X.-X.')^2 + (Y .- Y.')^2)"
     ],
     "language": "python",
     "metadata": {},
     "outputs": [
      {
       "metadata": {},
       "output_type": "pyout",
       "prompt_number": 26,
       "text": [
        "10x10 Array{Complex{Float64},2}:\n",
        "   2.80695e-9+0.629164im   \u2026  -8.32653e-10+0.157828im \n",
        "   2.26552e-9+0.618349im       -1.26926e-9+0.0845721im\n",
        "  -5.12064e-9+0.456663im       -3.18772e-9+0.29702im  \n",
        "  6.12455e-10+0.451394im      -3.33828e-10+0.276362im \n",
        "    1.5576e-9+0.118966im       -3.54828e-9+0.546652im \n",
        "   1.02813e-9+0.253288im   \u2026    1.29614e-9+0.455051im \n",
        "   1.33874e-9+0.0767045im       -1.9606e-9+0.587185im \n",
        " -9.84586e-10+0.152815im      -3.66294e-11+0.274258im \n",
        "  -2.67152e-9+0.513375im        4.51904e-9+0.268724im \n",
        " -8.32653e-10+0.157828im        5.35379e-9+0.480893im "
       ]
      }
     ],
     "prompt_number": 26
    },
    {
     "cell_type": "code",
     "collapsed": false,
     "input": [
      "# 8. Generate a generic 2D Gaussian-like array\n",
      "X, Y = meshgrid(linspace(-1,1,100),linspace(-1,1,100))\n",
      "D = sqrtm(X*X + Y*Y)\n",
      "sigma, mu = 1.0, 0.0\n",
      "G = exp(-( (D.-mu)^2 / ( 2.0 * sigma^2 ) ) )\n",
      "\n",
      "\n",
      "# Another solution\n",
      "# Author: Billou Beilour\n",
      "sigma, mu = 1.0, 0.0\n",
      "G = [ exp(-(x-mu).^2/(2.0*sigma^2) -(y-mu).^2/(2.0*sigma^2) ) for x in linspace(-1,1,100), y in linspace(-1,1,100) ]\n",
      "\n",
      "# One more solution\n",
      "# Author: Billou Beilour\n",
      "sigma, mu = 1.0, 0.0\n",
      "x,y = linspace(-1,1,100), linspace(-1,1,100)\n",
      "G = zeros(length(x),length(y))\n",
      "\n",
      "for i in 1:length(x), j in 1:length(y)\n",
      "    G[i,j] = exp(-(x[i]-mu).^2/(2.0*sigma^2) -(y[j]-mu).^2/(2.0*sigma^2) )\n",
      "end"
     ],
     "language": "python",
     "metadata": {},
     "outputs": [],
     "prompt_number": 27
    },
    {
     "cell_type": "code",
     "collapsed": false,
     "input": [
      "# 9. Consider the vector [1, 2, 3, 4, 5], how to build a new vector with 3 consecutive zeros interleaved between each value ?\n",
      "Z = [1,2,3,4,5]\n",
      "nz = 3\n",
      "Z0 = zeros(length(Z) + (length(Z)-1)*(nz))\n",
      "Z0[1:nz+1:end] = Z"
     ],
     "language": "python",
     "metadata": {},
     "outputs": [
      {
       "metadata": {},
       "output_type": "pyout",
       "prompt_number": 28,
       "text": [
        "5-element Array{Int64,1}:\n",
        " 1\n",
        " 2\n",
        " 3\n",
        " 4\n",
        " 5"
       ]
      }
     ],
     "prompt_number": 28
    },
    {
     "cell_type": "code",
     "collapsed": false,
     "input": [
      "# 10. Find the nearest value from a given value in an array\n",
      "Z = [3,6,9,12,15]\n",
      "Z[indmin(abs(Z .- 10))]"
     ],
     "language": "python",
     "metadata": {},
     "outputs": [
      {
       "metadata": {},
       "output_type": "pyout",
       "prompt_number": 29,
       "text": [
        "9"
       ]
      }
     ],
     "prompt_number": 29
    },
    {
     "cell_type": "code",
     "collapsed": false,
     "input": [
      "# Journyman\n",
      "# 1. Consider the following file:\n",
      "# 1,2,3,4,5\n",
      "# 6,,,7,8\n",
      "# ,,9,10,11\n",
      "# How to read it ?\n",
      "using DataFrames\n",
      "readtable(\"missing.dat\")"
     ],
     "language": "python",
     "metadata": {},
     "outputs": [
      {
       "html": [
        "<table><tr><th></th><th>x1</th><th>x2</th><th>x3</th><th>x4</th><th>x5</th></tr><tr><th>1</th><td>6</td><td>NA</td><td>NA</td><td>7</td><td>8</td></tr><tr><th>2</th><td>NA</td><td>NA</td><td>9</td><td>10</td><td>11</td></tr></table>"
       ],
       "metadata": {},
       "output_type": "pyout",
       "prompt_number": 30,
       "text": [
        "2x5 DataFrame\n",
        "|-------|----|----|----|----|----|\n",
        "| Row # | x1 | x2 | x3 | x4 | x5 |\n",
        "| 1     | 6  | NA | NA | 7  | 8  |\n",
        "| 2     | NA | NA | 9  | 10 | 11 |"
       ]
      }
     ],
     "prompt_number": 30
    },
    {
     "cell_type": "code",
     "collapsed": false,
     "input": [
      "# 2. Consider a generator function that generates 10 integers and use it to build an array\n",
      "# I can't translate this question"
     ],
     "language": "python",
     "metadata": {},
     "outputs": [],
     "prompt_number": 31
    },
    {
     "cell_type": "code",
     "collapsed": false,
     "input": [
      "# 3. Consider a given vector, how to add 1 to each element indexed by a second vector (be careful with repeated indices) ?\n",
      "using StatsBase\n",
      "Z = ones(10)\n",
      "I = rand(0:length(Z), 20)\n",
      "Z += counts(I, 1:length(Z))"
     ],
     "language": "python",
     "metadata": {},
     "outputs": [
      {
       "metadata": {},
       "output_type": "pyout",
       "prompt_number": 32,
       "text": [
        "10-element Array{Float64,1}:\n",
        " 4.0\n",
        " 3.0\n",
        " 3.0\n",
        " 2.0\n",
        " 2.0\n",
        " 2.0\n",
        " 3.0\n",
        " 3.0\n",
        " 2.0\n",
        " 5.0"
       ]
      }
     ],
     "prompt_number": 32
    },
    {
     "cell_type": "code",
     "collapsed": false,
     "input": [
      "# 4. How to accumulate elements of a vector (X) to an array (F) based on an index list (I) ?\n",
      "using StatsBase\n",
      "X = WeightVec([1,2,3,4,5,6])\n",
      "I = [1,3,9,3,4,1]\n",
      "F = counts(I, maximum(I), X)"
     ],
     "language": "python",
     "metadata": {},
     "outputs": [
      {
       "metadata": {},
       "output_type": "pyout",
       "prompt_number": 33,
       "text": [
        "9-element Array{Int64,1}:\n",
        " 7\n",
        " 0\n",
        " 6\n",
        " 5\n",
        " 0\n",
        " 0\n",
        " 0\n",
        " 0\n",
        " 3"
       ]
      }
     ],
     "prompt_number": 33
    },
    {
     "cell_type": "code",
     "collapsed": false,
     "input": [
      "# 5. Considering a (w,h,3) image of (dtype=ubyte), compute the number of unique colors\n",
      "w,h = 16,16\n",
      "I = convert(Array{Uint8}, rand(0:2, (h,w,3)))\n",
      "F = I[:,:,1] * 256 * 256 + I[:,:,2]*256 + I[:,:,3]\n",
      "n = length(unique(F))\n",
      "unique(I)"
     ],
     "language": "python",
     "metadata": {},
     "outputs": [
      {
       "metadata": {},
       "output_type": "pyout",
       "prompt_number": 34,
       "text": [
        "3-element Array{Uint8,1}:\n",
        " 0x00\n",
        " 0x02\n",
        " 0x01"
       ]
      }
     ],
     "prompt_number": 34
    },
    {
     "cell_type": "code",
     "collapsed": false,
     "input": [
      "# 6. Considering a four dimensions array, how to get sum over the last two axis at once ?\n",
      "A = rand(0:10, (3,4,3,4))\n",
      "x,y = size(A)[1:end-2]\n",
      "z = prod(size(A)[end-1:end])\n",
      "calc_sum = sum(reshape(A, (x,y,z)),3)"
     ],
     "language": "python",
     "metadata": {},
     "outputs": [
      {
       "metadata": {},
       "output_type": "pyout",
       "prompt_number": 35,
       "text": [
        "3x4x1 Array{Int64,3}:\n",
        "[:, :, 1] =\n",
        " 70  55  68  72\n",
        " 67  73  57  69\n",
        " 73  52  65  66"
       ]
      }
     ],
     "prompt_number": 35
    },
    {
     "cell_type": "code",
     "collapsed": false,
     "input": [
      "# 7. Considering a one-dimensional vector D, how to compute means of subsets of D using a vector S of same size describing subset indices ?\n",
      "using StatsBase\n",
      "D = WeightVec(rand(100))\n",
      "S = rand(0:10,100)\n",
      "D_sums = counts(S, maximum(S), D)\n",
      "D_counts = counts(S, maximum(S))\n",
      "D_means = D_sums ./ D_counts"
     ],
     "language": "python",
     "metadata": {},
     "outputs": [
      {
       "metadata": {},
       "output_type": "pyout",
       "prompt_number": 36,
       "text": [
        "10-element Array{Float64,1}:\n",
        " 0.343601\n",
        " 0.556839\n",
        " 0.511513\n",
        " 0.340748\n",
        " 0.563758\n",
        " 0.520816\n",
        " 0.438487\n",
        " 0.459452\n",
        " 0.528143\n",
        " 0.576013"
       ]
      }
     ],
     "prompt_number": 36
    },
    {
     "cell_type": "code",
     "collapsed": false,
     "input": [
      "# Craftsman\n",
      "# 1. Consider a one-dimensional array Z, build a two-dimensional array whose first row is (Z[0],Z[1],Z[2]) and each subsequent row is shifted by 1 (last row should be (Z[-3],Z[-2],Z[-1])\n",
      "# I don't find any function like stride_tricks.as_stride\n",
      "function rolling(A, window)\n",
      "       Z = zeros(length(A)-2, window)\n",
      "       for i in 1:(length(A) - window +1)\n",
      "           Z[i,:] = A[i:i+2]\n",
      "       end\n",
      "       return Z\n",
      "end\n",
      "\n",
      "rolling(0:100, 3)"
     ],
     "language": "python",
     "metadata": {},
     "outputs": [
      {
       "metadata": {},
       "output_type": "pyout",
       "prompt_number": 37,
       "text": [
        "99x3 Array{Float64,2}:\n",
        "  0.0   1.0    2.0\n",
        "  1.0   2.0    3.0\n",
        "  2.0   3.0    4.0\n",
        "  3.0   4.0    5.0\n",
        "  4.0   5.0    6.0\n",
        "  5.0   6.0    7.0\n",
        "  6.0   7.0    8.0\n",
        "  7.0   8.0    9.0\n",
        "  8.0   9.0   10.0\n",
        "  9.0  10.0   11.0\n",
        " 10.0  11.0   12.0\n",
        " 11.0  12.0   13.0\n",
        " 12.0  13.0   14.0\n",
        "  \u22ee               \n",
        " 87.0  88.0   89.0\n",
        " 88.0  89.0   90.0\n",
        " 89.0  90.0   91.0\n",
        " 90.0  91.0   92.0\n",
        " 91.0  92.0   93.0\n",
        " 92.0  93.0   94.0\n",
        " 93.0  94.0   95.0\n",
        " 94.0  95.0   96.0\n",
        " 95.0  96.0   97.0\n",
        " 96.0  97.0   98.0\n",
        " 97.0  98.0   99.0\n",
        " 98.0  99.0  100.0"
       ]
      }
     ],
     "prompt_number": 37
    },
    {
     "cell_type": "code",
     "collapsed": false,
     "input": [
      "# 2. Consider a set of 100 triplets describing 100 triangles (with shared vertices), find the set of unique line segments composing all the triangles.\n",
      "\n",
      "faces = rand(0:100, 100, 3)\n",
      "face2 = kron(faces,[1 1])\n",
      "\n",
      "F = circshift(sortcols(face2),(0,1))\n",
      "F = reshape(F, (convert(Int64,length(F)/2),2))\n",
      "F = sort(F,2)\n",
      "G = unique(F,1)"
     ],
     "language": "python",
     "metadata": {},
     "outputs": [
      {
       "metadata": {},
       "output_type": "pyout",
       "prompt_number": 38,
       "text": [
        "288x2 Array{Int64,2}:\n",
        " 76  94\n",
        " 14  24\n",
        " 31  66\n",
        " 35  94\n",
        " 26  80\n",
        " 44  60\n",
        " 51  72\n",
        " 15  33\n",
        " 15  46\n",
        " 13  55\n",
        " 76  78\n",
        " 35  63\n",
        " 66  69\n",
        "  \u22ee    \n",
        " 75  93\n",
        " 23  67\n",
        " 13  56\n",
        " 68  72\n",
        " 30  49\n",
        " 69  91\n",
        " 35  79\n",
        " 53  54\n",
        " 19  31\n",
        " 21  73\n",
        "  4  34\n",
        " 32  84"
       ]
      }
     ],
     "prompt_number": 38
    },
    {
     "cell_type": "code",
     "collapsed": false,
     "input": [
      "# 3. Given an array C that is a bincount, how to produce an array A such that np.bincount(A) == C ?\n",
      "using StatsBase\n",
      "O = [1 1 2 3 4 4 6]\n",
      "C = counts(O, maximum(O))\n",
      "A = foldl(vcat,[kron(ones(Int64, C[i]), i) for i in 1:length(C)])"
     ],
     "language": "python",
     "metadata": {},
     "outputs": [
      {
       "metadata": {},
       "output_type": "pyout",
       "prompt_number": 39,
       "text": [
        "7-element Array{Int64,1}:\n",
        " 1\n",
        " 1\n",
        " 2\n",
        " 3\n",
        " 4\n",
        " 4\n",
        " 6"
       ]
      }
     ],
     "prompt_number": 39
    },
    {
     "cell_type": "code",
     "collapsed": false,
     "input": [
      "# 4. How to compute averages using a sliding window over an array ?\n",
      "function moving_average(A, n=3)\n",
      "           ret = cumsum(A)\n",
      "           ret[n+1:end] = ret[n+1:end] - ret[1:end-n]\n",
      "           return ret[n:end-1] / n\n",
      "end\n",
      "Z = 0:20\n",
      "moving_average(Z, 3)"
     ],
     "language": "python",
     "metadata": {},
     "outputs": [
      {
       "metadata": {},
       "output_type": "pyout",
       "prompt_number": 40,
       "text": [
        "18-element Array{Float64,1}:\n",
        "  1.0\n",
        "  2.0\n",
        "  3.0\n",
        "  4.0\n",
        "  5.0\n",
        "  6.0\n",
        "  7.0\n",
        "  8.0\n",
        "  9.0\n",
        " 10.0\n",
        " 11.0\n",
        " 12.0\n",
        " 13.0\n",
        " 14.0\n",
        " 15.0\n",
        " 16.0\n",
        " 17.0\n",
        " 18.0"
       ]
      }
     ],
     "prompt_number": 40
    },
    {
     "cell_type": "code",
     "collapsed": false,
     "input": [
      "# Artisan\n",
      "# 1. Considering a 100x3 matrix, extract rows with unequal values (e.g. [2,2,3])\n",
      "Z = rand(0:5,100,3)\n",
      "E = prod(Z[:,2:end] .== Z[:,1:end-1],2)\n",
      "U = Z[find(~E), :]"
     ],
     "language": "python",
     "metadata": {},
     "outputs": [
      {
       "metadata": {},
       "output_type": "pyout",
       "prompt_number": 41,
       "text": [
        "100x3 Array{Int64,2}:\n",
        " 3  1  4\n",
        " 3  5  1\n",
        " 4  1  2\n",
        " 3  3  4\n",
        " 2  3  3\n",
        " 1  0  4\n",
        " 0  3  2\n",
        " 3  1  4\n",
        " 0  3  0\n",
        " 3  1  4\n",
        " 1  1  5\n",
        " 0  3  5\n",
        " 3  2  1\n",
        " \u22ee      \n",
        " 5  1  0\n",
        " 3  1  1\n",
        " 0  3  0\n",
        " 4  0  1\n",
        " 2  0  2\n",
        " 4  5  3\n",
        " 4  2  2\n",
        " 1  5  1\n",
        " 2  2  3\n",
        " 4  3  3\n",
        " 2  0  1\n",
        " 2  2  0"
       ]
      }
     ],
     "prompt_number": 41
    },
    {
     "cell_type": "code",
     "collapsed": false,
     "input": [
      "# 2. Convert a vector of ints into a matrix binary representation.\n",
      "I = [0 1 2 3 15 16 32 64 128]\n",
      "B = foldl(hcat,[reverse(int(bool(i & (2 .^ (0:8))))) for i in I])'"
     ],
     "language": "python",
     "metadata": {},
     "outputs": [
      {
       "metadata": {},
       "output_type": "pyout",
       "prompt_number": 42,
       "text": [
        "9x9 Array{Int64,2}:\n",
        " 0  0  0  0  0  0  0  0  0\n",
        " 0  0  0  0  0  0  0  0  1\n",
        " 0  0  0  0  0  0  0  1  0\n",
        " 0  0  0  0  0  0  0  1  1\n",
        " 0  0  0  0  0  1  1  1  1\n",
        " 0  0  0  0  1  0  0  0  0\n",
        " 0  0  0  1  0  0  0  0  0\n",
        " 0  0  1  0  0  0  0  0  0\n",
        " 0  1  0  0  0  0  0  0  0"
       ]
      }
     ],
     "prompt_number": 42
    },
    {
     "cell_type": "code",
     "collapsed": false,
     "input": [
      "# Adept\n",
      "# 1. Consider an arbitrary array, write a function that extract a subpart with a fixed shape and centered on a given element (pad with a fill value when necessary)\n",
      "# TBS"
     ],
     "language": "python",
     "metadata": {},
     "outputs": [],
     "prompt_number": 43
    },
    {
     "cell_type": "code",
     "collapsed": false,
     "input": [
      "# Expert\n",
      "# 1. Consider two arrays A and B of shape (8,3) and (2,2). How to find rows of A that contain elements of each row of B regardless of the order of the elements in B ?\n",
      "# I can't execute numpy version..."
     ],
     "language": "python",
     "metadata": {},
     "outputs": [],
     "prompt_number": 44
    },
    {
     "cell_type": "code",
     "collapsed": false,
     "input": [
      "# 2. Extract all the contiguous 3x3 blocks from a random 10x10 matrix.\n",
      "# TBS"
     ],
     "language": "python",
     "metadata": {},
     "outputs": [],
     "prompt_number": 45
    },
    {
     "cell_type": "code",
     "collapsed": false,
     "input": [
      "# 3. Extract all the contiguous 3x3 blocks from a random 10x10 matrix.\n",
      "# There is Symmetric class in julia but immutable\n",
      "# https://github.com/JuliaLang/julia/blob/master/base/linalg/symmetric.jl\n",
      "# See also: https://github.com/JuliaLang/julia/pull/1533"
     ],
     "language": "python",
     "metadata": {},
     "outputs": [],
     "prompt_number": 46
    },
    {
     "cell_type": "code",
     "collapsed": false,
     "input": [
      "# 4. Consider a set of p matrices wich shape (n,n) and a set of p vectors with shape (n,1). How to compute the sum of of the p matrix products at once ? (result has shape (n,1))\n",
      "p, n = 10, 20\n",
      "M = ones(n,n,p)\n",
      "V = ones(n,p)\n",
      "S = reduce(+, [M[i,:,j]*V[i] for i = 1:n, j = 1:p])'\n",
      "S"
     ],
     "language": "python",
     "metadata": {},
     "outputs": [
      {
       "metadata": {},
       "output_type": "pyout",
       "prompt_number": 47,
       "text": [
        "20x1 Array{Float64,2}:\n",
        " 200.0\n",
        " 200.0\n",
        " 200.0\n",
        " 200.0\n",
        " 200.0\n",
        " 200.0\n",
        " 200.0\n",
        " 200.0\n",
        " 200.0\n",
        " 200.0\n",
        " 200.0\n",
        " 200.0\n",
        " 200.0\n",
        " 200.0\n",
        " 200.0\n",
        " 200.0\n",
        " 200.0\n",
        " 200.0\n",
        " 200.0\n",
        " 200.0"
       ]
      }
     ],
     "prompt_number": 47
    },
    {
     "cell_type": "code",
     "collapsed": false,
     "input": [
      "# Master\n",
      "# 1. Given a two dimensional array, how to extract unique rows ?\n",
      "Z = rand(0:2, 6,3)\n",
      "uZ = unique(Z,1)"
     ],
     "language": "python",
     "metadata": {},
     "outputs": [
      {
       "metadata": {},
       "output_type": "pyout",
       "prompt_number": 48,
       "text": [
        "6x3 Array{Int64,2}:\n",
        " 1  1  0\n",
        " 2  0  0\n",
        " 2  2  1\n",
        " 1  0  2\n",
        " 2  1  1\n",
        " 1  1  2"
       ]
      }
     ],
     "prompt_number": 48
    }
   ],
   "metadata": {}
  }
 ]
}